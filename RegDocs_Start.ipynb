{
 "cells": [
  {
   "cell_type": "code",
   "execution_count": 1,
   "metadata": {
    "pycharm": {
     "is_executing": false
    }
   },
   "outputs": [],
   "source": [
    "import pyodbc\n",
    "import tika\n",
    "from tika import parser #need Java update\n",
    "import sqlalchemy\n",
    "from sqlalchemy import create_engine\n",
    "import pandas as pd\n",
    "import re\n",
    "\n",
    "# conn_str = 'mssql+pyodbc:///?odbc_connect=DRIVER%3D%7BSQL+Server+Native+Client+11.0%7D%3BSERVER%3DdSQL23CAP%3BDATABASE%3DRegulatory_Untrusted%3BTrusted_Connection%3Dyes'\n",
    "conn_str2 = 'mssql+pyodbc:///?odbc_connect=DRIVER%3D%7BSQL+Server+Native+Client+11.0%7D%3BSERVER%3DpSQL22CAP%3BDATABASE%3DEnergyData%3BTrusted_Connection%3Dyes'\n",
    "# conn_str = 'mssql+pyodbc:///?odbc_connect=DRIVER%3D%7BSQL+Server+Native+Client+11.0%7D%3BSERVER%3Ddsql23cap%3BDATABASE%3DRegulatory_Untrusted%3BTrusted_Connection%3Dyes'\n",
    "conn_str = 'mssql+pyodbc://psql21cap/CS_Prod?trusted_connection=yes&driver=ODBC+Driver+17+for+SQL+Server'\n",
    "\n",
    "conn = create_engine(conn_str)\n",
    "conn2 = create_engine(conn_str2)\n",
    "\n",
    "pd.set_option('display.max_columns', None)\n",
    "pd.set_option('display.max_rows', None)  "
   ]
  },
  {
   "cell_type": "code",
   "execution_count": 2,
   "metadata": {
    "pycharm": {
     "is_executing": false
    }
   },
   "outputs": [
    {
     "name": "stdout",
     "text": [
      "(418074, 48)\n"
     ],
     "output_type": "stream"
    },
    {
     "data": {
      "text/plain": "         OwnerID  ParentID           Name  OriginOwnerID  OriginDataID  \\\nDataID                                                                   \n3885536 -3885536        -1  sharlori Home              0             0   \n3817076 -3817076        -1  meyeelke Home              0             0   \n3813030 -3813030        -1  walktamm Home              0             0   \n3812603 -3812603        -1  walktamm Home              0             0   \n3810161 -3810161        -1  singvibu Home              0             0   \n\n          UserID  GroupID  UPermissions  GPermissions  WPermissions  \\\nDataID                                                                \n3885536  3885536  2476155      16777215           128           128   \n3817076  3817076   103170      16777215           128           128   \n3813030  3813030    41490      16777215           128           128   \n3812603  3812603    41490      16777215           128           128   \n3810161  3810161  2025375      16777215           128           128   \n\n         SPermissions  ACLCount  PermID  DataType  CreatedBy  \\\nDataID                                                         \n3885536      16777215         4     NaN       NaN    3885536   \n3817076      16777215         4     NaN       NaN    3817076   \n3813030      16777215         4     NaN       NaN    3813030   \n3812603      16777215         4     NaN       NaN    3812603   \n3810161      16777215         4     NaN       NaN    3810161   \n\n                 CreateDate  ModifiedBy          ModifyDate  MaxVers  \\\nDataID                                                                 \n3885536 2019-11-19 08:58:17        1000 2019-11-19 08:58:17       -1   \n3817076 2019-08-27 10:39:06      211025 2019-08-27 10:39:06       -1   \n3813030 2019-08-20 10:03:26      211025 2019-08-20 10:03:26       -1   \n3812603 2019-08-20 10:05:56      211025 2019-08-20 10:05:56       -1   \n3810161 2019-07-31 15:50:05      211025 2019-07-31 15:50:05       -1   \n\n         Reserved  ReservedBy ReservedDate  VersionNum DComment DCategory  \\\nDataID                                                                      \n3885536         0           0          NaT           0               None   \n3817076         0           0          NaT           0               None   \n3813030         0           0          NaT           0               None   \n3812603         0           0          NaT           0               None   \n3810161         0           0          NaT           0               None   \n\n         SubType ExAtt1 ExAtt2  Ordering  Major  Minor ReleaseRef  ChildCount  \\\nDataID                                                                          \n3885536      142   None   None       NaN    NaN    NaN       None           0   \n3817076      142   None   None       NaN    NaN    NaN       None           0   \n3813030      142   None   None       NaN    NaN    NaN       None           0   \n3812603      142   None   None       NaN    NaN    NaN       None           0   \n3810161      142   None   None       NaN    NaN    NaN       None           0   \n\n         AssignedTo DateAssigned DateEffective DateExpiration DateDue  \\\nDataID                                                                  \n3885536         NaN          NaT           NaT            NaT     NaT   \n3817076         NaN          NaT           NaT            NaT     NaT   \n3813030         NaN          NaT           NaT            NaT     NaT   \n3812603         NaN          NaT           NaT            NaT     NaT   \n3810161         NaN          NaT           NaT            NaT     NaT   \n\n        DateStarted DateCompleted  Status  Priority   GIF ExtendedData  \\\nDataID                                                                   \n3885536         NaT           NaT     NaN       NaN  None         None   \n3817076         NaT           NaT     NaN       NaN  None         None   \n3813030         NaT           NaT     NaN       NaN  None         None   \n3812603         NaT           NaT     NaN       NaN  None         None   \n3810161         NaT           NaT     NaN       NaN  None         None   \n\n         Catalog  CacheExpiration  Deleted  \\\nDataID                                       \n3885536        0              0.0        0   \n3817076        0              0.0        0   \n3813030        0              0.0        0   \n3812603        0              0.0        0   \n3810161        0              0.0        0   \n\n                                         GUID  \nDataID                                         \n3885536  B1783526-C6FB-400C-9029-40F5C38F506A  \n3817076  A6E5C79E-32B0-47D7-A266-61C0EC4E962E  \n3813030  87667D54-A661-4008-A079-A8D6ABF217A0  \n3812603  D4BE0E24-9014-4257-96AA-8728D9BC55C1  \n3810161  D045CAD8-BAD5-4F0D-B818-3359A3D52948  ",
      "text/html": "<div>\n<style scoped>\n    .dataframe tbody tr th:only-of-type {\n        vertical-align: middle;\n    }\n\n    .dataframe tbody tr th {\n        vertical-align: top;\n    }\n\n    .dataframe thead th {\n        text-align: right;\n    }\n</style>\n<table border=\"1\" class=\"dataframe\">\n  <thead>\n    <tr style=\"text-align: right;\">\n      <th></th>\n      <th>OwnerID</th>\n      <th>ParentID</th>\n      <th>Name</th>\n      <th>OriginOwnerID</th>\n      <th>OriginDataID</th>\n      <th>UserID</th>\n      <th>GroupID</th>\n      <th>UPermissions</th>\n      <th>GPermissions</th>\n      <th>WPermissions</th>\n      <th>SPermissions</th>\n      <th>ACLCount</th>\n      <th>PermID</th>\n      <th>DataType</th>\n      <th>CreatedBy</th>\n      <th>CreateDate</th>\n      <th>ModifiedBy</th>\n      <th>ModifyDate</th>\n      <th>MaxVers</th>\n      <th>Reserved</th>\n      <th>ReservedBy</th>\n      <th>ReservedDate</th>\n      <th>VersionNum</th>\n      <th>DComment</th>\n      <th>DCategory</th>\n      <th>SubType</th>\n      <th>ExAtt1</th>\n      <th>ExAtt2</th>\n      <th>Ordering</th>\n      <th>Major</th>\n      <th>Minor</th>\n      <th>ReleaseRef</th>\n      <th>ChildCount</th>\n      <th>AssignedTo</th>\n      <th>DateAssigned</th>\n      <th>DateEffective</th>\n      <th>DateExpiration</th>\n      <th>DateDue</th>\n      <th>DateStarted</th>\n      <th>DateCompleted</th>\n      <th>Status</th>\n      <th>Priority</th>\n      <th>GIF</th>\n      <th>ExtendedData</th>\n      <th>Catalog</th>\n      <th>CacheExpiration</th>\n      <th>Deleted</th>\n      <th>GUID</th>\n    </tr>\n    <tr>\n      <th>DataID</th>\n      <th></th>\n      <th></th>\n      <th></th>\n      <th></th>\n      <th></th>\n      <th></th>\n      <th></th>\n      <th></th>\n      <th></th>\n      <th></th>\n      <th></th>\n      <th></th>\n      <th></th>\n      <th></th>\n      <th></th>\n      <th></th>\n      <th></th>\n      <th></th>\n      <th></th>\n      <th></th>\n      <th></th>\n      <th></th>\n      <th></th>\n      <th></th>\n      <th></th>\n      <th></th>\n      <th></th>\n      <th></th>\n      <th></th>\n      <th></th>\n      <th></th>\n      <th></th>\n      <th></th>\n      <th></th>\n      <th></th>\n      <th></th>\n      <th></th>\n      <th></th>\n      <th></th>\n      <th></th>\n      <th></th>\n      <th></th>\n      <th></th>\n      <th></th>\n      <th></th>\n      <th></th>\n      <th></th>\n      <th></th>\n    </tr>\n  </thead>\n  <tbody>\n    <tr>\n      <td>3885536</td>\n      <td>-3885536</td>\n      <td>-1</td>\n      <td>sharlori Home</td>\n      <td>0</td>\n      <td>0</td>\n      <td>3885536</td>\n      <td>2476155</td>\n      <td>16777215</td>\n      <td>128</td>\n      <td>128</td>\n      <td>16777215</td>\n      <td>4</td>\n      <td>NaN</td>\n      <td>NaN</td>\n      <td>3885536</td>\n      <td>2019-11-19 08:58:17</td>\n      <td>1000</td>\n      <td>2019-11-19 08:58:17</td>\n      <td>-1</td>\n      <td>0</td>\n      <td>0</td>\n      <td>NaT</td>\n      <td>0</td>\n      <td></td>\n      <td>None</td>\n      <td>142</td>\n      <td>None</td>\n      <td>None</td>\n      <td>NaN</td>\n      <td>NaN</td>\n      <td>NaN</td>\n      <td>None</td>\n      <td>0</td>\n      <td>NaN</td>\n      <td>NaT</td>\n      <td>NaT</td>\n      <td>NaT</td>\n      <td>NaT</td>\n      <td>NaT</td>\n      <td>NaT</td>\n      <td>NaN</td>\n      <td>NaN</td>\n      <td>None</td>\n      <td>None</td>\n      <td>0</td>\n      <td>0.0</td>\n      <td>0</td>\n      <td>B1783526-C6FB-400C-9029-40F5C38F506A</td>\n    </tr>\n    <tr>\n      <td>3817076</td>\n      <td>-3817076</td>\n      <td>-1</td>\n      <td>meyeelke Home</td>\n      <td>0</td>\n      <td>0</td>\n      <td>3817076</td>\n      <td>103170</td>\n      <td>16777215</td>\n      <td>128</td>\n      <td>128</td>\n      <td>16777215</td>\n      <td>4</td>\n      <td>NaN</td>\n      <td>NaN</td>\n      <td>3817076</td>\n      <td>2019-08-27 10:39:06</td>\n      <td>211025</td>\n      <td>2019-08-27 10:39:06</td>\n      <td>-1</td>\n      <td>0</td>\n      <td>0</td>\n      <td>NaT</td>\n      <td>0</td>\n      <td></td>\n      <td>None</td>\n      <td>142</td>\n      <td>None</td>\n      <td>None</td>\n      <td>NaN</td>\n      <td>NaN</td>\n      <td>NaN</td>\n      <td>None</td>\n      <td>0</td>\n      <td>NaN</td>\n      <td>NaT</td>\n      <td>NaT</td>\n      <td>NaT</td>\n      <td>NaT</td>\n      <td>NaT</td>\n      <td>NaT</td>\n      <td>NaN</td>\n      <td>NaN</td>\n      <td>None</td>\n      <td>None</td>\n      <td>0</td>\n      <td>0.0</td>\n      <td>0</td>\n      <td>A6E5C79E-32B0-47D7-A266-61C0EC4E962E</td>\n    </tr>\n    <tr>\n      <td>3813030</td>\n      <td>-3813030</td>\n      <td>-1</td>\n      <td>walktamm Home</td>\n      <td>0</td>\n      <td>0</td>\n      <td>3813030</td>\n      <td>41490</td>\n      <td>16777215</td>\n      <td>128</td>\n      <td>128</td>\n      <td>16777215</td>\n      <td>4</td>\n      <td>NaN</td>\n      <td>NaN</td>\n      <td>3813030</td>\n      <td>2019-08-20 10:03:26</td>\n      <td>211025</td>\n      <td>2019-08-20 10:03:26</td>\n      <td>-1</td>\n      <td>0</td>\n      <td>0</td>\n      <td>NaT</td>\n      <td>0</td>\n      <td></td>\n      <td>None</td>\n      <td>142</td>\n      <td>None</td>\n      <td>None</td>\n      <td>NaN</td>\n      <td>NaN</td>\n      <td>NaN</td>\n      <td>None</td>\n      <td>0</td>\n      <td>NaN</td>\n      <td>NaT</td>\n      <td>NaT</td>\n      <td>NaT</td>\n      <td>NaT</td>\n      <td>NaT</td>\n      <td>NaT</td>\n      <td>NaN</td>\n      <td>NaN</td>\n      <td>None</td>\n      <td>None</td>\n      <td>0</td>\n      <td>0.0</td>\n      <td>0</td>\n      <td>87667D54-A661-4008-A079-A8D6ABF217A0</td>\n    </tr>\n    <tr>\n      <td>3812603</td>\n      <td>-3812603</td>\n      <td>-1</td>\n      <td>walktamm Home</td>\n      <td>0</td>\n      <td>0</td>\n      <td>3812603</td>\n      <td>41490</td>\n      <td>16777215</td>\n      <td>128</td>\n      <td>128</td>\n      <td>16777215</td>\n      <td>4</td>\n      <td>NaN</td>\n      <td>NaN</td>\n      <td>3812603</td>\n      <td>2019-08-20 10:05:56</td>\n      <td>211025</td>\n      <td>2019-08-20 10:05:56</td>\n      <td>-1</td>\n      <td>0</td>\n      <td>0</td>\n      <td>NaT</td>\n      <td>0</td>\n      <td></td>\n      <td>None</td>\n      <td>142</td>\n      <td>None</td>\n      <td>None</td>\n      <td>NaN</td>\n      <td>NaN</td>\n      <td>NaN</td>\n      <td>None</td>\n      <td>0</td>\n      <td>NaN</td>\n      <td>NaT</td>\n      <td>NaT</td>\n      <td>NaT</td>\n      <td>NaT</td>\n      <td>NaT</td>\n      <td>NaT</td>\n      <td>NaN</td>\n      <td>NaN</td>\n      <td>None</td>\n      <td>None</td>\n      <td>0</td>\n      <td>0.0</td>\n      <td>0</td>\n      <td>D4BE0E24-9014-4257-96AA-8728D9BC55C1</td>\n    </tr>\n    <tr>\n      <td>3810161</td>\n      <td>-3810161</td>\n      <td>-1</td>\n      <td>singvibu Home</td>\n      <td>0</td>\n      <td>0</td>\n      <td>3810161</td>\n      <td>2025375</td>\n      <td>16777215</td>\n      <td>128</td>\n      <td>128</td>\n      <td>16777215</td>\n      <td>4</td>\n      <td>NaN</td>\n      <td>NaN</td>\n      <td>3810161</td>\n      <td>2019-07-31 15:50:05</td>\n      <td>211025</td>\n      <td>2019-07-31 15:50:05</td>\n      <td>-1</td>\n      <td>0</td>\n      <td>0</td>\n      <td>NaT</td>\n      <td>0</td>\n      <td></td>\n      <td>None</td>\n      <td>142</td>\n      <td>None</td>\n      <td>None</td>\n      <td>NaN</td>\n      <td>NaN</td>\n      <td>NaN</td>\n      <td>None</td>\n      <td>0</td>\n      <td>NaN</td>\n      <td>NaT</td>\n      <td>NaT</td>\n      <td>NaT</td>\n      <td>NaT</td>\n      <td>NaT</td>\n      <td>NaT</td>\n      <td>NaN</td>\n      <td>NaN</td>\n      <td>None</td>\n      <td>None</td>\n      <td>0</td>\n      <td>0.0</td>\n      <td>0</td>\n      <td>D045CAD8-BAD5-4F0D-B818-3359A3D52948</td>\n    </tr>\n  </tbody>\n</table>\n</div>"
     },
     "metadata": {},
     "output_type": "execute_result",
     "execution_count": 2
    }
   ],
   "source": [
    "# tree = 'F:/bucom/Supply Team/Janna/RegDocs/tree.csv'\n",
    "# df = pd.read_csv(tree, index_col='DataID', header=0, parse_dates=['CreateDate'], \n",
    "#                  dtype={'ParentID':int, 'DataID':int, 'SubType':int}, encoding='ISO-8859-1').dropna(1, 'all').dropna(0, 'all')\n",
    "qry = 'SELECT * FROM '\n",
    "# table = '[_RegDocs].[DTreeCore]'\n",
    "table = '[DTreeCore]'\n",
    "\n",
    "df = pd.read_sql(qry + table, conn, index_col='DataID', parse_dates='CreateDate')\n",
    "print(df.shape)\n",
    "df.head()"
   ]
  },
  {
   "cell_type": "code",
   "execution_count": 2,
   "metadata": {
    "pycharm": {
     "is_executing": false
    }
   },
   "outputs": [],
   "source": []
  },
  {
   "cell_type": "code",
   "execution_count": 3,
   "metadata": {
    "pycharm": {
     "is_executing": false
    }
   },
   "outputs": [
    {
     "name": "stdout",
     "text": [
      "(282804, 49)\n"
     ],
     "output_type": "stream"
    },
    {
     "name": "stderr",
     "text": [
      "C:\\Users\\T1Ivan\\AppData\\Local\\Continuum\\anaconda3\\lib\\site-packages\\ipykernel_launcher.py:2: SettingWithCopyWarning: \n",
      "A value is trying to be set on a copy of a slice from a DataFrame.\n",
      "Try using .loc[row_indexer,col_indexer] = value instead\n",
      "\n",
      "See the caveats in the documentation: http://pandas.pydata.org/pandas-docs/stable/user_guide/indexing.html#returning-a-view-versus-a-copy\n",
      "  \n"
     ],
     "output_type": "stream"
    },
    {
     "data": {
      "text/plain": "         OwnerID  ParentID                                          Name  \\\nDataID                                                                     \n3120063 -3115223   3115223  OpenText_Content_Server_16_Release_Notes.pdf   \n3159721 -3115223   3115223    A0F8I7 - 04_TTF 7th Report to NEB_2002.pdf   \n3211906 -3115223   3115223                              CS16 Diagram.vsd   \n3269611 -3115223   3269392                  CANADA EXHIBIT B & C (1).PDF   \n3269834 -3115223   3270051                      CANADA EXHIBIT B & C.PDF   \n\n         OriginOwnerID  OriginDataID   UserID  GroupID  UPermissions  \\\nDataID                                                                 \n3120063              0             0  3115223   103060      16777215   \n3159721              0             0  3115223   103060      16777215   \n3211906              0             0  3115223   103060      16777215   \n3269611              0             0  3115223   103060      16777215   \n3269834              0             0  3115223   103060      16777215   \n\n         GPermissions  WPermissions  SPermissions  ACLCount  PermID  DataType  \\\nDataID                                                                          \n3120063           128           128      16777215         4     NaN       NaN   \n3159721           128           128      16777215         4     NaN       NaN   \n3211906           128           128      16777215         4     NaN       NaN   \n3269611           128           128      16777215         4     NaN       NaN   \n3269834           128           128      16777215         4     NaN       NaN   \n\n         CreatedBy          CreateDate  ModifiedBy          ModifyDate  \\\nDataID                                                                   \n3120063    3115223 2016-12-23 09:43:40     3115223 2016-12-23 09:43:40   \n3159721    3115223 2017-01-19 16:40:55     3115223 2017-01-19 16:41:06   \n3211906    3115223 2017-03-24 15:33:45     3115223 2017-03-24 15:33:45   \n3269611    3115223 2017-05-18 14:03:20     3115223 2017-05-18 14:03:20   \n3269834    3115223 2017-05-18 14:04:36     3115223 2017-05-18 16:30:17   \n\n         MaxVers  Reserved  ReservedBy ReservedDate  VersionNum DComment  \\\nDataID                                                                     \n3120063       -1         0           0          NaT           1            \n3159721       -1         0           0          NaT           2            \n3211906       -1         0           0          NaT           1            \n3269611       -1         0           0          NaT           1            \n3269834       -1         0           0          NaT           1            \n\n        DCategory  SubType ExAtt1 ExAtt2  Ordering  Major  Minor ReleaseRef  \\\nDataID                                                                        \n3120063      None      144   None   None       NaN    NaN    NaN       None   \n3159721      None      144   None   None       NaN    NaN    NaN       None   \n3211906      None      144   None   None       NaN    NaN    NaN       None   \n3269611      None      144   None   None       NaN    NaN    NaN       None   \n3269834      None      144   None   None       NaN    NaN    NaN       None   \n\n         ChildCount  AssignedTo DateAssigned DateEffective DateExpiration  \\\nDataID                                                                      \n3120063           0         NaN          NaT           NaT            NaT   \n3159721           0         NaN          NaT           NaT            NaT   \n3211906           0         NaN          NaT           NaT            NaT   \n3269611           0         NaN          NaT           NaT            NaT   \n3269834           0         NaN          NaT           NaT            NaT   \n\n        DateDue DateStarted DateCompleted  Status  Priority   GIF  \\\nDataID                                                              \n3120063     NaT         NaT           NaT     NaN       NaN  None   \n3159721     NaT         NaT           NaT     NaN       NaN  None   \n3211906     NaT         NaT           NaT     NaN       NaN  None   \n3269611     NaT         NaT           NaT     NaN       NaN  None   \n3269834     NaT         NaT           NaT     NaN       NaN  None   \n\n        ExtendedData  Catalog  CacheExpiration  Deleted  \\\nDataID                                                    \n3120063         None        0              0.0        0   \n3159721         None        0              0.0        0   \n3211906         None        0              0.0        0   \n3269611         None        0              0.0        0   \n3269834         None        2              0.0        0   \n\n                                         GUID Path  \nDataID                                              \n3120063  F7E9B814-3F15-4063-AC80-E617EC74F5C4       \n3159721  64D27397-D4E6-438D-82AB-34C5F9022A3A       \n3211906  42CF4AB2-1E23-4EA5-8812-3C056CC119B9       \n3269611  DACC45EA-E6EC-4EB1-9CE1-1C94C04B23FE       \n3269834  9C12D215-34B1-4163-9A89-FF920364A175       ",
      "text/html": "<div>\n<style scoped>\n    .dataframe tbody tr th:only-of-type {\n        vertical-align: middle;\n    }\n\n    .dataframe tbody tr th {\n        vertical-align: top;\n    }\n\n    .dataframe thead th {\n        text-align: right;\n    }\n</style>\n<table border=\"1\" class=\"dataframe\">\n  <thead>\n    <tr style=\"text-align: right;\">\n      <th></th>\n      <th>OwnerID</th>\n      <th>ParentID</th>\n      <th>Name</th>\n      <th>OriginOwnerID</th>\n      <th>OriginDataID</th>\n      <th>UserID</th>\n      <th>GroupID</th>\n      <th>UPermissions</th>\n      <th>GPermissions</th>\n      <th>WPermissions</th>\n      <th>SPermissions</th>\n      <th>ACLCount</th>\n      <th>PermID</th>\n      <th>DataType</th>\n      <th>CreatedBy</th>\n      <th>CreateDate</th>\n      <th>ModifiedBy</th>\n      <th>ModifyDate</th>\n      <th>MaxVers</th>\n      <th>Reserved</th>\n      <th>ReservedBy</th>\n      <th>ReservedDate</th>\n      <th>VersionNum</th>\n      <th>DComment</th>\n      <th>DCategory</th>\n      <th>SubType</th>\n      <th>ExAtt1</th>\n      <th>ExAtt2</th>\n      <th>Ordering</th>\n      <th>Major</th>\n      <th>Minor</th>\n      <th>ReleaseRef</th>\n      <th>ChildCount</th>\n      <th>AssignedTo</th>\n      <th>DateAssigned</th>\n      <th>DateEffective</th>\n      <th>DateExpiration</th>\n      <th>DateDue</th>\n      <th>DateStarted</th>\n      <th>DateCompleted</th>\n      <th>Status</th>\n      <th>Priority</th>\n      <th>GIF</th>\n      <th>ExtendedData</th>\n      <th>Catalog</th>\n      <th>CacheExpiration</th>\n      <th>Deleted</th>\n      <th>GUID</th>\n      <th>Path</th>\n    </tr>\n    <tr>\n      <th>DataID</th>\n      <th></th>\n      <th></th>\n      <th></th>\n      <th></th>\n      <th></th>\n      <th></th>\n      <th></th>\n      <th></th>\n      <th></th>\n      <th></th>\n      <th></th>\n      <th></th>\n      <th></th>\n      <th></th>\n      <th></th>\n      <th></th>\n      <th></th>\n      <th></th>\n      <th></th>\n      <th></th>\n      <th></th>\n      <th></th>\n      <th></th>\n      <th></th>\n      <th></th>\n      <th></th>\n      <th></th>\n      <th></th>\n      <th></th>\n      <th></th>\n      <th></th>\n      <th></th>\n      <th></th>\n      <th></th>\n      <th></th>\n      <th></th>\n      <th></th>\n      <th></th>\n      <th></th>\n      <th></th>\n      <th></th>\n      <th></th>\n      <th></th>\n      <th></th>\n      <th></th>\n      <th></th>\n      <th></th>\n      <th></th>\n      <th></th>\n    </tr>\n  </thead>\n  <tbody>\n    <tr>\n      <td>3120063</td>\n      <td>-3115223</td>\n      <td>3115223</td>\n      <td>OpenText_Content_Server_16_Release_Notes.pdf</td>\n      <td>0</td>\n      <td>0</td>\n      <td>3115223</td>\n      <td>103060</td>\n      <td>16777215</td>\n      <td>128</td>\n      <td>128</td>\n      <td>16777215</td>\n      <td>4</td>\n      <td>NaN</td>\n      <td>NaN</td>\n      <td>3115223</td>\n      <td>2016-12-23 09:43:40</td>\n      <td>3115223</td>\n      <td>2016-12-23 09:43:40</td>\n      <td>-1</td>\n      <td>0</td>\n      <td>0</td>\n      <td>NaT</td>\n      <td>1</td>\n      <td></td>\n      <td>None</td>\n      <td>144</td>\n      <td>None</td>\n      <td>None</td>\n      <td>NaN</td>\n      <td>NaN</td>\n      <td>NaN</td>\n      <td>None</td>\n      <td>0</td>\n      <td>NaN</td>\n      <td>NaT</td>\n      <td>NaT</td>\n      <td>NaT</td>\n      <td>NaT</td>\n      <td>NaT</td>\n      <td>NaT</td>\n      <td>NaN</td>\n      <td>NaN</td>\n      <td>None</td>\n      <td>None</td>\n      <td>0</td>\n      <td>0.0</td>\n      <td>0</td>\n      <td>F7E9B814-3F15-4063-AC80-E617EC74F5C4</td>\n      <td></td>\n    </tr>\n    <tr>\n      <td>3159721</td>\n      <td>-3115223</td>\n      <td>3115223</td>\n      <td>A0F8I7 - 04_TTF 7th Report to NEB_2002.pdf</td>\n      <td>0</td>\n      <td>0</td>\n      <td>3115223</td>\n      <td>103060</td>\n      <td>16777215</td>\n      <td>128</td>\n      <td>128</td>\n      <td>16777215</td>\n      <td>4</td>\n      <td>NaN</td>\n      <td>NaN</td>\n      <td>3115223</td>\n      <td>2017-01-19 16:40:55</td>\n      <td>3115223</td>\n      <td>2017-01-19 16:41:06</td>\n      <td>-1</td>\n      <td>0</td>\n      <td>0</td>\n      <td>NaT</td>\n      <td>2</td>\n      <td></td>\n      <td>None</td>\n      <td>144</td>\n      <td>None</td>\n      <td>None</td>\n      <td>NaN</td>\n      <td>NaN</td>\n      <td>NaN</td>\n      <td>None</td>\n      <td>0</td>\n      <td>NaN</td>\n      <td>NaT</td>\n      <td>NaT</td>\n      <td>NaT</td>\n      <td>NaT</td>\n      <td>NaT</td>\n      <td>NaT</td>\n      <td>NaN</td>\n      <td>NaN</td>\n      <td>None</td>\n      <td>None</td>\n      <td>0</td>\n      <td>0.0</td>\n      <td>0</td>\n      <td>64D27397-D4E6-438D-82AB-34C5F9022A3A</td>\n      <td></td>\n    </tr>\n    <tr>\n      <td>3211906</td>\n      <td>-3115223</td>\n      <td>3115223</td>\n      <td>CS16 Diagram.vsd</td>\n      <td>0</td>\n      <td>0</td>\n      <td>3115223</td>\n      <td>103060</td>\n      <td>16777215</td>\n      <td>128</td>\n      <td>128</td>\n      <td>16777215</td>\n      <td>4</td>\n      <td>NaN</td>\n      <td>NaN</td>\n      <td>3115223</td>\n      <td>2017-03-24 15:33:45</td>\n      <td>3115223</td>\n      <td>2017-03-24 15:33:45</td>\n      <td>-1</td>\n      <td>0</td>\n      <td>0</td>\n      <td>NaT</td>\n      <td>1</td>\n      <td></td>\n      <td>None</td>\n      <td>144</td>\n      <td>None</td>\n      <td>None</td>\n      <td>NaN</td>\n      <td>NaN</td>\n      <td>NaN</td>\n      <td>None</td>\n      <td>0</td>\n      <td>NaN</td>\n      <td>NaT</td>\n      <td>NaT</td>\n      <td>NaT</td>\n      <td>NaT</td>\n      <td>NaT</td>\n      <td>NaT</td>\n      <td>NaN</td>\n      <td>NaN</td>\n      <td>None</td>\n      <td>None</td>\n      <td>0</td>\n      <td>0.0</td>\n      <td>0</td>\n      <td>42CF4AB2-1E23-4EA5-8812-3C056CC119B9</td>\n      <td></td>\n    </tr>\n    <tr>\n      <td>3269611</td>\n      <td>-3115223</td>\n      <td>3269392</td>\n      <td>CANADA EXHIBIT B &amp; C (1).PDF</td>\n      <td>0</td>\n      <td>0</td>\n      <td>3115223</td>\n      <td>103060</td>\n      <td>16777215</td>\n      <td>128</td>\n      <td>128</td>\n      <td>16777215</td>\n      <td>4</td>\n      <td>NaN</td>\n      <td>NaN</td>\n      <td>3115223</td>\n      <td>2017-05-18 14:03:20</td>\n      <td>3115223</td>\n      <td>2017-05-18 14:03:20</td>\n      <td>-1</td>\n      <td>0</td>\n      <td>0</td>\n      <td>NaT</td>\n      <td>1</td>\n      <td></td>\n      <td>None</td>\n      <td>144</td>\n      <td>None</td>\n      <td>None</td>\n      <td>NaN</td>\n      <td>NaN</td>\n      <td>NaN</td>\n      <td>None</td>\n      <td>0</td>\n      <td>NaN</td>\n      <td>NaT</td>\n      <td>NaT</td>\n      <td>NaT</td>\n      <td>NaT</td>\n      <td>NaT</td>\n      <td>NaT</td>\n      <td>NaN</td>\n      <td>NaN</td>\n      <td>None</td>\n      <td>None</td>\n      <td>0</td>\n      <td>0.0</td>\n      <td>0</td>\n      <td>DACC45EA-E6EC-4EB1-9CE1-1C94C04B23FE</td>\n      <td></td>\n    </tr>\n    <tr>\n      <td>3269834</td>\n      <td>-3115223</td>\n      <td>3270051</td>\n      <td>CANADA EXHIBIT B &amp; C.PDF</td>\n      <td>0</td>\n      <td>0</td>\n      <td>3115223</td>\n      <td>103060</td>\n      <td>16777215</td>\n      <td>128</td>\n      <td>128</td>\n      <td>16777215</td>\n      <td>4</td>\n      <td>NaN</td>\n      <td>NaN</td>\n      <td>3115223</td>\n      <td>2017-05-18 14:04:36</td>\n      <td>3115223</td>\n      <td>2017-05-18 16:30:17</td>\n      <td>-1</td>\n      <td>0</td>\n      <td>0</td>\n      <td>NaT</td>\n      <td>1</td>\n      <td></td>\n      <td>None</td>\n      <td>144</td>\n      <td>None</td>\n      <td>None</td>\n      <td>NaN</td>\n      <td>NaN</td>\n      <td>NaN</td>\n      <td>None</td>\n      <td>0</td>\n      <td>NaN</td>\n      <td>NaT</td>\n      <td>NaT</td>\n      <td>NaT</td>\n      <td>NaT</td>\n      <td>NaT</td>\n      <td>NaT</td>\n      <td>NaN</td>\n      <td>NaN</td>\n      <td>None</td>\n      <td>None</td>\n      <td>2</td>\n      <td>0.0</td>\n      <td>0</td>\n      <td>9C12D215-34B1-4163-9A89-FF920364A175</td>\n      <td></td>\n    </tr>\n  </tbody>\n</table>\n</div>"
     },
     "metadata": {},
     "output_type": "execute_result",
     "execution_count": 3
    }
   ],
   "source": [
    "df_docs = df.loc[df['SubType'] == 144]\n",
    "df_docs['Path'] = ''\n",
    "print(df_docs.shape)\n",
    "df_docs.head()"
   ]
  },
  {
   "cell_type": "code",
   "execution_count": 3,
   "metadata": {
    "pycharm": {
     "is_executing": false
    }
   },
   "outputs": [],
   "source": []
  },
  {
   "cell_type": "code",
   "execution_count": 4,
   "metadata": {
    "pycharm": {
     "is_executing": false
    }
   },
   "outputs": [],
   "source": [
    "count = 0\n",
    "for index, row in df_docs.iterrows():\n",
    "    # print(index)\n",
    "    count += 1\n",
    "    #if count < 5:\n",
    "    path = 'Self'\n",
    "    parentID = row['ParentID']\n",
    "    while parentID != -1:\n",
    "        parent_row = df.loc[parentID]\n",
    "        path = str(parent_row['Name']) + '-->' + path\n",
    "        parentID = parent_row['ParentID']\n",
    "    df_docs.at[index, 'Path'] = path\n",
    "    # print(path)"
   ]
  },
  {
   "cell_type": "code",
   "execution_count": 5,
   "metadata": {
    "pycharm": {
     "is_executing": false
    }
   },
   "outputs": [],
   "source": [
    "df_docs.to_csv('regdoc.csv', index=None)"
   ]
  },
  {
   "cell_type": "code",
   "execution_count": null,
   "metadata": {
    "pycharm": {
     "is_executing": false
    }
   },
   "outputs": [],
   "source": [
    "# pdf to text with tika\n",
    "\n",
    "file_path = 'C03833-2_Attachment_1_Unanimous_TTF_Resolution_02.2019_-_A7C1U2.pdf'\n",
    "parsed = parser.from_file(file_path) #returns dictionary\n",
    "big_string = parsed['content'] #returns string \n",
    "big_string = big_string.replace('\\n', '').replace('\\t', ' ') #remove spaces and tabs\n",
    "len(big_string)\n",
    "big_string[0:1500]"
   ]
  },
  {
   "cell_type": "code",
   "execution_count": null,
   "metadata": {
    "pycharm": {
     "is_executing": false
    }
   },
   "outputs": [],
   "source": []
  },
  {
   "cell_type": "code",
   "execution_count": null,
   "metadata": {
    "pycharm": {
     "is_executing": false
    }
   },
   "outputs": [],
   "source": []
  },
  {
   "cell_type": "code",
   "execution_count": null,
   "metadata": {
    "pycharm": {
     "is_executing": false
    }
   },
   "outputs": [],
   "source": [
    "url = 'https://apps.cer-rec.gc.ca/REGDOCS/File/Download/'\n",
    "\n",
    "df_docs['Length'] = None\n",
    "df_docs['Text'] = ''\n",
    "\n",
    "count = 0\n",
    "data = []\n",
    "for index, row in df_docs.iterrows():\n",
    "    count += 1\n",
    "    # if count < 5:\n",
    "    if 1:\n",
    "        file_path = url + str(index)\n",
    "        print(file_path)\n",
    "        parsed = parser.from_file(file_path) #returns dictionary\n",
    "        #for x in parsed:\n",
    "        #    print(parsed['metadata'])\n",
    "        big_string = parsed['content'] #returns string \n",
    "\n",
    "        if big_string:\n",
    "            l = len(big_string)\n",
    "            text = re.sub(r'\\s+', ' ', big_string).strip()\n",
    "        else:\n",
    "            l = 0\n",
    "            text = ''\n",
    "        df_docs.at[index, 'Length'] = l\n",
    "        df_docs.at[index, 'Text'] = text\n",
    "        \n",
    "        # save the text to file named index.txt\n",
    "        f = open('F:/bucom/Supply Team/Janna/RegDocs/Text/' + str(index) + '.txt', 'wb')\n",
    "#         if l > 2600:\n",
    "#             print(text[2611])\n",
    "#             print(ord(text[2611]))\n",
    "#             print(text[2500:2700])\n",
    "        f.write(text.encode('utf-8', 'ignore')) \n",
    "        # f.writelines(text) \n",
    "        f.close() \n",
    "    \n",
    "print(df.head())\n",
    "\n",
    "df_docs.to_csv('regdocs_text.csv', index=False)\n"
   ]
  },
  {
   "cell_type": "code",
   "execution_count": null,
   "metadata": {
    "pycharm": {
     "is_executing": false
    }
   },
   "outputs": [],
   "source": []
  },
  {
   "cell_type": "code",
   "execution_count": null,
   "metadata": {
    "pycharm": {
     "is_executing": false
    }
   },
   "outputs": [],
   "source": []
  },
  {
   "cell_type": "code",
   "execution_count": null,
   "metadata": {
    "pycharm": {
     "is_executing": false
    }
   },
   "outputs": [],
   "source": []
  },
  {
   "cell_type": "code",
   "execution_count": null,
   "metadata": {
    "pycharm": {
     "is_executing": false
    }
   },
   "outputs": [],
   "source": []
  },
  {
   "cell_type": "code",
   "execution_count": 3,
   "metadata": {
    "pycharm": {
     "is_executing": false
    }
   },
   "outputs": [],
   "source": []
  },
  {
   "cell_type": "code",
   "execution_count": 3,
   "metadata": {
    "pycharm": {
     "is_executing": false
    }
   },
   "outputs": [],
   "source": []
  },
  {
   "cell_type": "code",
   "execution_count": 3,
   "metadata": {
    "pycharm": {
     "is_executing": false
    }
   },
   "outputs": [],
   "source": []
  },
  {
   "cell_type": "code",
   "execution_count": 3,
   "metadata": {
    "pycharm": {
     "is_executing": false
    }
   },
   "outputs": [],
   "source": []
  },
  {
   "cell_type": "code",
   "execution_count": 3,
   "metadata": {
    "pycharm": {
     "is_executing": false
    }
   },
   "outputs": [],
   "source": []
  }
 ],
 "metadata": {
  "kernelspec": {
   "name": "pycharm-d388fdf3",
   "language": "python",
   "display_name": "PyCharm (multiprocessing-python)"
  },
  "language_info": {
   "codemirror_mode": {
    "name": "ipython",
    "version": 3
   },
   "file_extension": ".py",
   "mimetype": "text/x-python",
   "name": "python",
   "nbconvert_exporter": "python",
   "pygments_lexer": "ipython3",
   "version": "3.7.4"
  },
  "pycharm": {
   "stem_cell": {
    "cell_type": "raw",
    "source": [],
    "metadata": {
     "collapsed": false
    }
   }
  }
 },
 "nbformat": 4,
 "nbformat_minor": 2
}