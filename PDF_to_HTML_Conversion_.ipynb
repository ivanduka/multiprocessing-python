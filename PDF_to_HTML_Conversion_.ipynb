{
 "cells": [
  {
   "cell_type": "markdown",
   "metadata": {},
   "source": [
    "# PDF to HTML Conversion"
   ]
  },
  {
   "cell_type": "markdown",
   "metadata": {},
   "source": [
    "#### 1.1 Import python packages"
   ]
  },
  {
   "cell_type": "code",
   "execution_count": null,
   "metadata": {
    "ExecuteTime": {
     "end_time": "2019-08-20T18:31:15.206282Z",
     "start_time": "2019-08-20T18:31:15.201330Z"
    },
    "pycharm": {
     "is_executing": true
    }
   },
   "outputs": [],
   "source": [
    "import glob\n",
    "import os\n",
    "import subprocess"
   ]
  },
  {
   "cell_type": "markdown",
   "metadata": {},
   "source": [
    "#### 1.2 Function to quote the string"
   ]
  },
  {
   "cell_type": "code",
   "execution_count": null,
   "metadata": {
    "pycharm": {
     "is_executing": true
    }
   },
   "outputs": [],
   "source": [
    "##########################################################################################################\n",
    "#Reference: http://code.activestate.com/recipes/498202-quote-python-strings-for-safe-use-in-posix-shells/#\n",
    "##########################################################################################################\n",
    "\n",
    "def QuoteForPOSIX(string):\n",
    "    '''quote a string so it can be used as an argument in a  posix shell\n",
    "\n",
    "          Enclosing characters in single-quotes ( '' ) shall preserve\n",
    "          the literal value of each character within the single-quotes.\n",
    "          A single-quote cannot occur within single-quotes.\n",
    "\n",
    "    '''\n",
    "\n",
    "    return \"\\\"\" + string + \"\\\"\"\n"
   ]
  },
  {
   "cell_type": "markdown",
   "metadata": {},
   "source": [
    "#### 1.3 Change the current work directory"
   ]
  },
  {
   "cell_type": "code",
   "execution_count": null,
   "metadata": {
    "ExecuteTime": {
     "end_time": "2019-08-20T18:31:15.416932Z",
     "start_time": "2019-08-20T18:31:15.413154Z"
    },
    "pycharm": {
     "is_executing": true
    }
   },
   "outputs": [],
   "source": [
    "os.chdir(\"F:/Environmental Baseline Data/Version 3/Data/HTML/\")"
   ]
  },
  {
   "cell_type": "markdown",
   "metadata": {},
   "source": [
    "#### 1.4 Setup multiprocessing to go through all the pdf files and use pdf2html function to convert the PDF file to HTML\n",
    "\n",
    "PDF to HTML converter can be downloaded here https://github.com/coolwanglu/pdf2htmlEX/wiki/Quick-Start\n",
    "\n",
    "It is assumed that you unzip the executable to 'pdf2htmlEX-win32-0.14.6-upx-with-poppler-data' subfolder of the project\n",
    "\n",
    "Quick Start for this tool can be found here https://github.com/coolwanglu/pdf2htmlEX/wiki/Quick-Start"
   ]
  },
  {
   "cell_type": "code",
   "execution_count": null,
   "metadata": {
    "pycharm": {
     "is_executing": true
    }
   },
   "outputs": [],
   "source": [
    "from subprocess import run, TimeoutExpired\n",
    "\n",
    "timeout = 20 * 60 # in seconds\n",
    "pdf2htmlExe = \"C:/Users/T1Ivan/Desktop/GitHub/multiprocessing-python/pdf2htmlEX-win32-0.14.6-upx-with-poppler-data/pdf2htmlEX.exe\"\n",
    "    \n",
    "def do_work(pdf):\n",
    "    pdf_name = pdf.split(\"\\\\\")[-1]\n",
    "    pdf_folder = pdf.split(\"\\\\\")[0:-1]\n",
    "\n",
    "    start_time = time.time()\n",
    "    print(f\"Started {pdf_name} at {start_time}\")\n",
    "\n",
    "    try:\n",
    "        run([pdf2htmlExe, pdf_folder+pdf_name], timeout=timeout)\n",
    "    except TimeoutExpired:\n",
    "        print(f\"Timeout of process: {pdf_name}\")\n",
    "    \n",
    "    duration = time.time() - start_time\n",
    "    print(f\"Done {pdf_name} in {round(duration)} seconds.\")\n",
    "        "
   ]
  },
  {
   "cell_type": "markdown",
   "source": [
    "#### 1.5 Running multiprocessing to go through all the pdf files and use pdf2html function to convert the PDF file to HTML\n"
   ],
   "metadata": {
    "collapsed": false,
    "pycharm": {
     "name": "#%% md\n"
    }
   }
  },
  {
   "cell_type": "code",
   "execution_count": null,
   "metadata": {
    "pycharm": {
     "name": "#%%\n",
     "is_executing": true
    }
   },
   "outputs": [],
   "source": [
    "import time\n",
    "import multiprocessing\n",
    "\n",
    "pdfFilesFolder = \"C:/Users/T1Ivan/Desktop/PDF/*.pdf\"\n",
    "pdf_files = glob.glob(pdfFilesFolder)\n",
    "total_start_time = time.time()\n",
    "\n",
    "print(f\"Started processing {len(pdf_files)} PDFs at {total_start_time}\")\n",
    "\n",
    "with multiprocessing.Pool() as pool:\n",
    "     results = pool.map(do_work, pdf_files)\n",
    "\n",
    "total_duration = time.time() - total_start_time\n",
    "print(f\"Done {len(pdf_files)} PDFs in {round(total_duration)} seconds.\")\n",
    "print(results)"
   ]
  }
 ],
 "metadata": {
  "kernelspec": {
   "display_name": "Python 3",
   "language": "python",
   "name": "python3"
  },
  "language_info": {
   "codemirror_mode": {
    "name": "ipython",
    "version": 3
   },
   "file_extension": ".py",
   "mimetype": "text/x-python",
   "name": "python",
   "nbconvert_exporter": "python",
   "pygments_lexer": "ipython3",
   "version": "3.7.1"
  },
  "pycharm": {
   "stem_cell": {
    "cell_type": "raw",
    "source": [],
    "metadata": {
     "collapsed": false
    }
   }
  }
 },
 "nbformat": 4,
 "nbformat_minor": 2
}