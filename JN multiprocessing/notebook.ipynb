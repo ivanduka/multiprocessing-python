{
 "cells": [
  {
   "cell_type": "code",
   "execution_count": 1,
   "metadata": {},
   "outputs": [],
   "source": [
    "from multiprocessing import Pool\n",
    "from external import worker\n",
    "import time\n",
    "\n",
    "data = list(range(0, 10))"
   ]
  },
  {
   "cell_type": "code",
   "execution_count": 2,
   "metadata": {},
   "outputs": [
    {
     "name": "stdout",
     "output_type": "stream",
     "text": "[<TableList n=0>, <TableList n=0>, <TableList n=0>, <TableList n=0>, <TableList n=0>, <TableList n=0>, <TableList n=0>, <TableList n=0>, <TableList n=0>, <TableList n=0>]\nFinished in 24.086507558822632 seconds\n"
    }
   ],
   "source": [
    "start = time.time()\n",
    "\n",
    "results1 = [worker(item) for item in data]\n",
    "\n",
    "print(results1)\n",
    "print(f\"Finished in {time.time() - start} seconds\")"
   ]
  },
  {
   "cell_type": "code",
   "execution_count": 3,
   "metadata": {},
   "outputs": [
    {
     "name": "stdout",
     "output_type": "stream",
     "text": "[<TableList n=0>, <TableList n=0>, <TableList n=0>, <TableList n=0>, <TableList n=0>, <TableList n=0>, <TableList n=0>, <TableList n=0>, <TableList n=0>, <TableList n=0>]\nFinished in 6.887146472930908 seconds\n"
    }
   ],
   "source": [
    "start = time.time()\n",
    "\n",
    "with Pool() as pool:\n",
    "    results2 = pool.map(worker, data)\n",
    "\n",
    "print(results2)\n",
    "print(f\"Finished in {time.time() - start} seconds\")"
   ]
  }
 ],
 "metadata": {
  "file_extension": ".py",
  "kernelspec": {
   "display_name": "Python 3.7.4 64-bit ('base': conda)",
   "language": "python",
   "name": "python37464bitbaseconda30fb8a07f75f4a94a3c6b568e65d1132"
  },
  "language_info": {
   "codemirror_mode": {
    "name": "ipython",
    "version": 3
   },
   "file_extension": ".py",
   "mimetype": "text/x-python",
   "name": "python",
   "nbconvert_exporter": "python",
   "pygments_lexer": "ipython3",
   "version": "3.7.4-final"
  },
  "mimetype": "text/x-python",
  "name": "python",
  "npconvert_exporter": "python",
  "pygments_lexer": "ipython3",
  "version": 3
 },
 "nbformat": 4,
 "nbformat_minor": 2
}